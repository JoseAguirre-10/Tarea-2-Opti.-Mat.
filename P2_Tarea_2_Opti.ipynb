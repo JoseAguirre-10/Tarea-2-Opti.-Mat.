{
  "nbformat": 4,
  "nbformat_minor": 0,
  "metadata": {
    "colab": {
      "provenance": [],
      "include_colab_link": true
    },
    "kernelspec": {
      "name": "python3",
      "display_name": "Python 3"
    },
    "language_info": {
      "name": "python"
    }
  },
  "cells": [
    {
      "cell_type": "markdown",
      "metadata": {
        "id": "view-in-github",
        "colab_type": "text"
      },
      "source": [
        "<a href=\"https://colab.research.google.com/github/JoseAguirre-10/Tarea-2-Opti.-Mat./blob/main/P2_Tarea_2_Opti.ipynb\" target=\"_parent\"><img src=\"https://colab.research.google.com/assets/colab-badge.svg\" alt=\"Open In Colab\"/></a>"
      ]
    },
    {
      "cell_type": "code",
      "execution_count": 1,
      "metadata": {
        "id": "OXGhYSjOW8r6",
        "colab": {
          "base_uri": "https://localhost:8080/"
        },
        "outputId": "87fd56b6-b224-443a-e90f-bc6ecccb3fcd"
      },
      "outputs": [
        {
          "output_type": "stream",
          "name": "stdout",
          "text": [
            "Collecting gurobipy\n",
            "  Downloading gurobipy-12.0.2-cp311-cp311-manylinux2014_x86_64.manylinux_2_17_x86_64.whl.metadata (16 kB)\n",
            "Downloading gurobipy-12.0.2-cp311-cp311-manylinux2014_x86_64.manylinux_2_17_x86_64.whl (14.5 MB)\n",
            "\u001b[2K   \u001b[90m━━━━━━━━━━━━━━━━━━━━━━━━━━━━━━━━━━━━━━━━\u001b[0m \u001b[32m14.5/14.5 MB\u001b[0m \u001b[31m35.2 MB/s\u001b[0m eta \u001b[36m0:00:00\u001b[0m\n",
            "\u001b[?25hInstalling collected packages: gurobipy\n",
            "Successfully installed gurobipy-12.0.2\n"
          ]
        }
      ],
      "source": [
        "!pip install gurobipy"
      ]
    },
    {
      "cell_type": "code",
      "source": [
        "import numpy as np\n",
        "from gurobipy import*"
      ],
      "metadata": {
        "id": "4HmKBmz_N46t"
      },
      "execution_count": 2,
      "outputs": []
    },
    {
      "cell_type": "code",
      "source": [
        "#para esta pregunta se nos dan ciertos coeficientes a los cuales se les asignaran un valor\n",
        "#Primero voy a plantear nuevamente el problema de optimización\n",
        "\n",
        "#Definimos los datos que nos entrega el problema.\n",
        "betha = [0,100,120,130,140,150,200,0] #Esto representa el costo de almacenaje\n",
        "\n",
        "\n",
        "\n",
        "c = np.array([[0,10,25,30,0,0,20,0],[0,0,0,0,15,15,0,0],[0,0,0,0,0,15,0,0],\n",
        " [0,0,0,0,0,0,10,0],[0,0,0,0,0,0,0,25],[0,0,0,0,0,0,0,80],[0,0,0,0,0,0,0,25],  #representa el costo de ir desdela bodega i-esima hasta la j-esima, cij = 0 representa que esa ruta no existe\n",
        "  [0,0,0,0,0,0,0,0]])\n",
        "\n",
        "r = np.array([[0,500,350,500,0,0,600,0],[0,0,0,0,250,350,0,0],[0,0,0,0,0,350,0,0],\n",
        " [0,0,0,0,0,0,500,0],[0,0,0,0,0,0,0,800],[0,0,0,0,0,0,0,500],[0,0,0,0,0,0,0,500], #Representa cuanto se piuede transportar en la ruta desde i hasta j. Rij = 0 significa que esa ruta no está definida\n",
        "  [0,0,0,0,0,0,0,0]])\n",
        "\n"
      ],
      "metadata": {
        "id": "cIGRnA4fZpnv"
      },
      "execution_count": 3,
      "outputs": []
    },
    {
      "cell_type": "code",
      "source": [
        "#planteamos el problema de optimización\n",
        "m = Model('Penalización')\n",
        "n = 8\n",
        "\n",
        "#definimos las variables, en este caso tenemos un problema de una sola variable, el cual no es lineal\n",
        "\n",
        "x = m.addVars(n,n,vtype=GRB.CONTINUOUS, name = 'Cantidad_de_elemntos_por_bodega')\n",
        "#restricciones:\n",
        "\n",
        "#Con esta restriccion dejamos que el la primera columna tenga sea el inicio\n",
        "m.addConstr((quicksum(x[0,j] for j in range(n))) == 1000, name='Inicio')\n",
        "\n",
        "#En el final deben existir 1000 unidades\n",
        "m.addConstr(quicksum(x[i, 7] for i in range(n)) == 1000, name='Llegada')\n",
        "\n",
        "#se deben bloquear las rutas no existentes\n",
        "for i in range(n):\n",
        "    for j in range(n):\n",
        "        if float(r[i, j]) == 0:  # Bloquear rutas no válidas\n",
        "            m.addConstr(x[i, j] == 0, name=f'Bloqueo_{i}_{j}')\n",
        "        else:\n",
        "            m.addConstr(x[i, j] <= r[i, j], name=f'Capacidad_{i}_{j}')\n",
        "#hay que asegurar que lo que entra es igual a lo que sale\n",
        "for i in range(1, 7):\n",
        "    entrada = quicksum(x[j, i] for j in range(n))\n",
        "    salida = quicksum(x[i, j] for j in range(n))\n",
        "    m.addConstr(entrada == salida, name=f'balance_{i}')\n",
        "\n",
        "m.setObjective(quicksum(float(c[i, j]) * x[i, j] * x[i, j] for i in range(n) for j in range(n)) +\n",
        "    quicksum(float(betha[i]) * quicksum(x[i, j] for j in range(n)) for i in range(n)),GRB.MINIMIZE)\n",
        "\n",
        "m.optimize()\n",
        "\n",
        "print(f\"Status: {m.Status}\")\n",
        "if m.Status == GRB.OPTIMAL:\n",
        "    for i in range(n):\n",
        "        for j in range(n):\n",
        "            val = x[i, j].X\n",
        "            if val > 1e-6:\n",
        "                print(f\"x[{i},{j}] = {val:.2f}\")\n",
        "else:\n",
        "    print(\"No se encontró solución óptima.\")"
      ],
      "metadata": {
        "colab": {
          "base_uri": "https://localhost:8080/"
        },
        "collapsed": true,
        "id": "9hzB6vXVTIXk",
        "outputId": "5714152c-4526-4973-daa2-f76d42392287"
      },
      "execution_count": 4,
      "outputs": [
        {
          "output_type": "stream",
          "name": "stdout",
          "text": [
            "Restricted license - for non-production use only - expires 2026-11-23\n",
            "Gurobi Optimizer version 12.0.2 build v12.0.2rc0 (linux64 - \"Ubuntu 22.04.4 LTS\")\n",
            "\n",
            "CPU model: Intel(R) Xeon(R) CPU @ 2.20GHz, instruction set [SSE2|AVX|AVX2]\n",
            "Thread count: 1 physical cores, 2 logical processors, using up to 2 threads\n",
            "\n",
            "Optimize a model with 72 rows, 64 columns and 164 nonzeros\n",
            "Model fingerprint: 0x9a70293f\n",
            "Model has 11 quadratic objective terms\n",
            "Coefficient statistics:\n",
            "  Matrix range     [1e+00, 1e+00]\n",
            "  Objective range  [1e+02, 2e+02]\n",
            "  QObjective range [2e+01, 2e+02]\n",
            "  Bounds range     [0e+00, 0e+00]\n",
            "  RHS range        [2e+02, 1e+03]\n",
            "Presolve removed 65 rows and 53 columns\n",
            "Presolve time: 0.01s\n",
            "Presolved: 7 rows, 11 columns, 18 nonzeros\n",
            "Presolved model has 11 quadratic objective terms\n",
            "Ordering time: 0.00s\n",
            "\n",
            "Barrier statistics:\n",
            " AA' NZ     : 7.000e+00\n",
            " Factor NZ  : 2.800e+01\n",
            " Factor Ops : 1.400e+02 (less than 1 second per iteration)\n",
            " Threads    : 1\n",
            "\n",
            "                  Objective                Residual\n",
            "Iter       Primal          Dual         Primal    Dual     Compl     Time\n",
            "   0   3.54460489e+08 -6.40085460e+08  2.50e+03 9.38e+02  1.20e+06     0s\n",
            "   1   2.03637617e+07 -1.80453873e+08  7.60e+00 2.85e+00  1.44e+05     0s\n",
            "   2   1.98661759e+07  1.71168056e+07  5.50e-02 2.06e-02  1.95e+03     0s\n",
            "   3   1.95951447e+07  1.95548718e+07  6.78e-05 2.54e-05  2.86e+01     0s\n",
            "   4   1.95897411e+07  1.95897007e+07  9.63e-10 3.61e-10  2.87e-02     0s\n",
            "   5   1.95897357e+07  1.95897357e+07  9.09e-13 3.69e-13  2.87e-05     0s\n",
            "   6   1.95897357e+07  1.95897357e+07  0.00e+00 5.68e-14  2.87e-08     0s\n",
            "   7   1.95897357e+07  1.95897357e+07  0.00e+00 1.14e-13  2.87e-11     0s\n",
            "\n",
            "Barrier solved model in 7 iterations and 0.02 seconds (0.00 work units)\n",
            "Optimal objective 1.95897357e+07\n",
            "\n",
            "Status: 2\n",
            "x[0,1] = 365.54\n",
            "x[0,2] = 134.46\n",
            "x[0,3] = 165.58\n",
            "x[0,6] = 334.42\n",
            "x[1,4] = 250.00\n",
            "x[1,5] = 115.54\n",
            "x[2,5] = 134.46\n",
            "x[3,6] = 165.58\n",
            "x[4,7] = 250.00\n",
            "x[5,7] = 250.00\n",
            "x[6,7] = 500.00\n"
          ]
        }
      ]
    },
    {
      "cell_type": "code",
      "source": [
        "#Ahora que ya tenemos las restricciones definidas comenzaremos a realizar el algoritmo.\n",
        "\n",
        "#definimos las variables:\n",
        "\n",
        "m2 = Model('modelos de penalización')\n",
        "x = m2.addVars(n,n,vtype=GRB.CONTINUOUS, name = 'Cantidad_de_elemntos_por_bodega')\n",
        "\n",
        "f = (quicksum(x[i, j] * x[i, j] for i in range(n) for j in range(n)) + quicksum(float(betha[i]) * quicksum(x[i, j] for j in range(n)) for i in range(n)))\n",
        "\n",
        "#voy a definir las restricciones:\n",
        "\n",
        "h1 = quicksum(x[0,j] for j in range(n)) - 1000 # este evalua que desde el primer nodo salgan exactamente 1000\n",
        "\n",
        "h2 = quicksum(x[i, 7] for i in range(n)) - 1000 # este evalua que el ultimo nodo le lleguen exactamente 1000\n",
        "\n",
        "h3 = []\n",
        "\n",
        "for i in range(n):   #en esta linea estoy limitando los camino\n",
        "    for j in range(n):\n",
        "        if r[i,j] > 0 :\n",
        "            x[i,j]\n",
        "        else:\n",
        "            x[i,j] = 0\n",
        "\n",
        "h4 = []\n",
        "for i in range(1, 7):\n",
        "    entrada = quicksum(x[j, i] for j in range(n))\n",
        "    salida = quicksum(x[i, j] for j in range(n))\n",
        "    h4.append((entrada - salida)**2)\n",
        "\n",
        "#ahora que tengo las 4 restricciones del problema puedo definir la funcion objetivo:\n",
        "\n",
        "k = 0\n",
        "\n",
        "\n",
        "mu_k= 10**k\n",
        "\n",
        "\n",
        "phi = (f + mu_k*(h1**2 + h2**2 + quicksum(h4)))\n",
        "\n",
        "\n",
        "#ahora realizaremos la optimización\n",
        "\n",
        "m2.setObjective(phi, GRB.MINIMIZE)\n",
        "m2.optimize()\n",
        "\n",
        "print(f\"Status: {m.Status}\")\n",
        "if m.Status == GRB.OPTIMAL:\n",
        "    for i in range(n):\n",
        "        for j in range(n):\n",
        "            val = x[i, j].X\n",
        "            if val > 1e-6:\n",
        "                print(f\"x[{i},{j}] = {val:.2f}\")\n",
        "else:\n",
        "    print(\"No se encontró solución óptima.\")\n",
        "\n",
        "\n",
        "\n",
        "\n"
      ],
      "metadata": {
        "colab": {
          "base_uri": "https://localhost:8080/",
          "height": 991
        },
        "id": "Hh5iYN1hTdzE",
        "outputId": "5749a902-ef3a-4ddb-91f6-3d975a481296"
      },
      "execution_count": 33,
      "outputs": [
        {
          "output_type": "stream",
          "name": "stdout",
          "text": [
            "Gurobi Optimizer version 12.0.2 build v12.0.2rc0 (linux64 - \"Ubuntu 22.04.4 LTS\")\n",
            "\n",
            "CPU model: Intel(R) Xeon(R) CPU @ 2.20GHz, instruction set [SSE2|AVX|AVX2]\n",
            "Thread count: 1 physical cores, 2 logical processors, using up to 2 threads\n",
            "\n",
            "Optimize a model with 0 rows, 64 columns and 0 nonzeros\n",
            "Model fingerprint: 0xdbdf26c2\n",
            "Model has 132 quadratic objective terms\n",
            "Coefficient statistics:\n",
            "  Matrix range     [0e+00, 0e+00]\n",
            "  Objective range  [1e+02, 4e+03]\n",
            "  QObjective range [2e+00, 6e+00]\n",
            "  Bounds range     [0e+00, 0e+00]\n",
            "  RHS range        [0e+00, 0e+00]\n",
            "Presolve removed 0 rows and 45 columns\n",
            "Presolve time: 0.01s\n",
            "Presolved: 0 rows, 19 columns, 0 nonzeros\n",
            "Presolved model has 87 quadratic objective terms\n",
            "Ordering time: 0.00s\n",
            "\n",
            "Barrier statistics:\n",
            " Free vars  : 18\n",
            " AA' NZ     : 1.380e+02\n",
            " Factor NZ  : 1.710e+02\n",
            " Factor Ops : 2.109e+03 (less than 1 second per iteration)\n",
            " Threads    : 1\n",
            "\n",
            "                  Objective                Residual\n",
            "Iter       Primal          Dual         Primal    Dual     Compl     Time\n",
            "   0  -1.00502428e+08 -1.83375723e+07  3.75e+03 6.25e+01  9.38e+05     0s\n",
            "   1   1.51116618e+08 -1.78334388e+08  3.75e-03 1.14e-13  1.35e+05     0s\n",
            "   2   1.94806071e+07 -2.85442820e+07  3.75e-09 1.71e-13  1.97e+04     0s\n",
            "   3   2.29091701e+06 -4.50910845e+06  1.42e-13 7.82e-14  2.80e+03     0s\n",
            "   4   4.72670283e+05 -3.25091621e+05  5.68e-14 2.13e-14  3.28e+02     0s\n",
            "   5   3.15723793e+05  2.05638655e+05  2.84e-14 3.20e-14  4.53e+01     0s\n",
            "   6   2.95962212e+05  2.88063571e+05  5.68e-14 1.42e-14  3.25e+00     0s\n",
            "   7   2.94446611e+05  2.93990865e+05  2.70e-13 2.84e-14  1.87e-01     0s\n",
            "   8   2.94347322e+05  2.94343873e+05  3.34e-13 7.11e-15  1.42e-03     0s\n",
            "   9   2.94346383e+05  2.94346380e+05  1.42e-12 3.91e-14  1.42e-06     0s\n",
            "  10   2.94346382e+05  2.94346382e+05  1.57e-12 7.11e-15  1.42e-09     0s\n",
            "\n",
            "Barrier solved model in 10 iterations and 0.03 seconds (0.00 work units)\n",
            "Optimal objective 2.94346382e+05\n",
            "\n",
            "Status: 2\n"
          ]
        },
        {
          "output_type": "error",
          "ename": "AttributeError",
          "evalue": "'int' object has no attribute 'X'",
          "traceback": [
            "\u001b[0;31m---------------------------------------------------------------------------\u001b[0m",
            "\u001b[0;31mAttributeError\u001b[0m                            Traceback (most recent call last)",
            "\u001b[0;32m<ipython-input-33-2119455516>\u001b[0m in \u001b[0;36m<cell line: 0>\u001b[0;34m()\u001b[0m\n\u001b[1;32m     49\u001b[0m     \u001b[0;32mfor\u001b[0m \u001b[0mi\u001b[0m \u001b[0;32min\u001b[0m \u001b[0mrange\u001b[0m\u001b[0;34m(\u001b[0m\u001b[0mn\u001b[0m\u001b[0;34m)\u001b[0m\u001b[0;34m:\u001b[0m\u001b[0;34m\u001b[0m\u001b[0;34m\u001b[0m\u001b[0m\n\u001b[1;32m     50\u001b[0m         \u001b[0;32mfor\u001b[0m \u001b[0mj\u001b[0m \u001b[0;32min\u001b[0m \u001b[0mrange\u001b[0m\u001b[0;34m(\u001b[0m\u001b[0mn\u001b[0m\u001b[0;34m)\u001b[0m\u001b[0;34m:\u001b[0m\u001b[0;34m\u001b[0m\u001b[0;34m\u001b[0m\u001b[0m\n\u001b[0;32m---> 51\u001b[0;31m             \u001b[0mval\u001b[0m \u001b[0;34m=\u001b[0m \u001b[0mx\u001b[0m\u001b[0;34m[\u001b[0m\u001b[0mi\u001b[0m\u001b[0;34m,\u001b[0m \u001b[0mj\u001b[0m\u001b[0;34m]\u001b[0m\u001b[0;34m.\u001b[0m\u001b[0mX\u001b[0m\u001b[0;34m\u001b[0m\u001b[0;34m\u001b[0m\u001b[0m\n\u001b[0m\u001b[1;32m     52\u001b[0m             \u001b[0;32mif\u001b[0m \u001b[0mval\u001b[0m \u001b[0;34m>\u001b[0m \u001b[0;36m1e-6\u001b[0m\u001b[0;34m:\u001b[0m\u001b[0;34m\u001b[0m\u001b[0;34m\u001b[0m\u001b[0m\n\u001b[1;32m     53\u001b[0m                 \u001b[0mprint\u001b[0m\u001b[0;34m(\u001b[0m\u001b[0;34mf\"x[{i},{j}] = {val:.2f}\"\u001b[0m\u001b[0;34m)\u001b[0m\u001b[0;34m\u001b[0m\u001b[0;34m\u001b[0m\u001b[0m\n",
            "\u001b[0;31mAttributeError\u001b[0m: 'int' object has no attribute 'X'"
          ]
        }
      ]
    }
  ]
}