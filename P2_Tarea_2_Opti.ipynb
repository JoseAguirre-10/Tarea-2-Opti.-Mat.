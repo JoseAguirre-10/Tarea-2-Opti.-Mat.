{
  "nbformat": 4,
  "nbformat_minor": 0,
  "metadata": {
    "colab": {
      "provenance": [],
      "authorship_tag": "ABX9TyM3/fMkko6pZS5dX+HQTtXj",
      "include_colab_link": true
    },
    "kernelspec": {
      "name": "python3",
      "display_name": "Python 3"
    },
    "language_info": {
      "name": "python"
    }
  },
  "cells": [
    {
      "cell_type": "markdown",
      "metadata": {
        "id": "view-in-github",
        "colab_type": "text"
      },
      "source": [
        "<a href=\"https://colab.research.google.com/github/JoseAguirre-10/Tarea-2-Opti.-Mat./blob/main/P2_Tarea_2_Opti.ipynb\" target=\"_parent\"><img src=\"https://colab.research.google.com/assets/colab-badge.svg\" alt=\"Open In Colab\"/></a>"
      ]
    },
    {
      "cell_type": "code",
      "execution_count": 184,
      "metadata": {
        "id": "OXGhYSjOW8r6",
        "colab": {
          "base_uri": "https://localhost:8080/"
        },
        "outputId": "53abd271-e2d8-4815-deb1-53fad65fb4b2"
      },
      "outputs": [
        {
          "output_type": "stream",
          "name": "stdout",
          "text": [
            "Requirement already satisfied: gurobipy in /usr/local/lib/python3.11/dist-packages (12.0.2)\n"
          ]
        }
      ],
      "source": [
        "!pip install gurobipy"
      ]
    },
    {
      "cell_type": "code",
      "source": [
        "import numpy as np\n",
        "from gurobipy import*"
      ],
      "metadata": {
        "id": "4HmKBmz_N46t"
      },
      "execution_count": 185,
      "outputs": []
    },
    {
      "cell_type": "code",
      "source": [
        "#para esta pregunta se nos dan ciertos coeficientes a los cuales se les asignaran un valor\n",
        "#Primero voy a plantear nuevamente el problema de optimización\n",
        "\n",
        "#Definimos los datos que nos entrega el problema.\n",
        "betha = [0,100,120,130,140,150,200,0] #Esto representa el costo de almacenaje\n",
        "\n",
        "\n",
        "\n",
        "c = np.array([[0,10,25,30,0,0,20,0],[0,0,0,0,15,15,0,0],[0,0,0,0,0,15,0,0],\n",
        " [0,0,0,0,0,0,10,0],[0,0,0,0,0,0,0,25],[0,0,0,0,0,0,0,80],[0,0,0,0,0,0,0,25],  #representa el costo de ir desdela bodega i-esima hasta la j-esima, cij = 0 representa que esa ruta no existe\n",
        "  [0,0,0,0,0,0,0,0]])\n",
        "\n",
        "r = np.array([[0,500,350,500,0,0,600,0],[0,0,0,0,250,350,0,0],[0,0,0,0,0,350,0,0],\n",
        " [0,0,0,0,0,0,500,0],[0,0,0,0,0,0,0,800],[0,0,0,0,0,0,0,500],[0,0,0,0,0,0,0,500], #Representa cuanto se piuede transportar en la ruta desde i hasta j. Rij = 0 significa que esa ruta no está definida\n",
        "  [0,0,0,0,0,0,0,0]])\n",
        "\n"
      ],
      "metadata": {
        "id": "cIGRnA4fZpnv"
      },
      "execution_count": 217,
      "outputs": []
    },
    {
      "cell_type": "code",
      "source": [
        "#planteamos el problema de optimización\n",
        "m = Model('Penalización')\n",
        "n = 8\n",
        "\n",
        "#definimos las variables, en este caso tenemos un problema de una sola variable, el cual no es lineal\n",
        "\n",
        "x = m.addVars(n,n,vtype=GRB.CONTINUOUS, name = 'Cantidad_de_elemntos_por_bodega')\n",
        "#restricciones:\n",
        "\n",
        "#Con esta restriccion dejamos que el la primera columna tenga sea el inicio\n",
        "m.addConstr((quicksum(x[0,j] for j in range(n))) == 1000, name='Inicio')\n",
        "\n",
        "#En el final deben existir 1000 unidades\n",
        "m.addConstr(quicksum(x[i, 7] for i in range(n)) == 1000, name='Llegada')\n",
        "\n",
        "#se deben bloquear las rutas no existentes\n",
        "for i in range(n):\n",
        "    for j in range(n):\n",
        "        if float(r[i, j]) == 0:  # Bloquear rutas no válidas\n",
        "            m.addConstr(x[i, j] == 0, name=f'Bloqueo_{i}_{j}')\n",
        "        else:\n",
        "            m.addConstr(x[i, j] <= r[i, j], name=f'Capacidad_{i}_{j}')\n",
        "#hay que asegurar que lo que entra es igual a lo que sale\n",
        "for i in range(1, 7):\n",
        "    entrada = quicksum(x[j, i] for j in range(n))\n",
        "    salida = quicksum(x[i, j] for j in range(n))\n",
        "    m.addConstr(entrada == salida, name=f'balance_{i}')\n",
        "\n",
        "#nos aseguramos que este tomando valores no negativos.\n",
        "m.addConstrs((x[i, j] >= 0 for i in range(n) for j in range(n)), name='No Negatividad')\n",
        "\n",
        "m.setObjective(\n",
        "    quicksum(float(c[i, j]) * x[i, j] * x[i, j] for i in range(n) for j in range(n)) +\n",
        "    quicksum(float(betha[i]) * quicksum(x[i, j] for j in range(n)) for i in range(n)),\n",
        "    GRB.MINIMIZE)\n",
        "\n",
        "m.optimize()\n",
        "\n",
        "print(f\"Status: {m.Status}\")\n",
        "if m.Status == GRB.OPTIMAL:\n",
        "    for i in range(n):\n",
        "        for j in range(n):\n",
        "            val = x[i, j].X\n",
        "            if val > 1e-6:\n",
        "                print(f\"x[{i},{j}] = {val:.2f}\")\n",
        "else:\n",
        "    print(\"No se encontró solución óptima.\")"
      ],
      "metadata": {
        "colab": {
          "base_uri": "https://localhost:8080/"
        },
        "collapsed": true,
        "id": "9hzB6vXVTIXk",
        "outputId": "1ad436b7-0ff9-41f8-ca25-48b32cfb6abf"
      },
      "execution_count": 232,
      "outputs": [
        {
          "output_type": "stream",
          "name": "stdout",
          "text": [
            "Gurobi Optimizer version 12.0.2 build v12.0.2rc0 (linux64 - \"Ubuntu 22.04.4 LTS\")\n",
            "\n",
            "CPU model: Intel(R) Xeon(R) CPU @ 2.20GHz, instruction set [SSE2|AVX|AVX2]\n",
            "Thread count: 1 physical cores, 2 logical processors, using up to 2 threads\n",
            "\n",
            "Optimize a model with 136 rows, 64 columns and 228 nonzeros\n",
            "Model fingerprint: 0xff3f155e\n",
            "Model has 11 quadratic objective terms\n",
            "Coefficient statistics:\n",
            "  Matrix range     [1e+00, 1e+00]\n",
            "  Objective range  [1e+02, 2e+02]\n",
            "  QObjective range [2e+01, 2e+02]\n",
            "  Bounds range     [0e+00, 0e+00]\n",
            "  RHS range        [2e+02, 1e+03]\n",
            "Presolve removed 129 rows and 53 columns\n",
            "Presolve time: 0.01s\n",
            "Presolved: 7 rows, 11 columns, 18 nonzeros\n",
            "Presolved model has 11 quadratic objective terms\n",
            "Ordering time: 0.00s\n",
            "\n",
            "Barrier statistics:\n",
            " AA' NZ     : 7.000e+00\n",
            " Factor NZ  : 2.800e+01\n",
            " Factor Ops : 1.400e+02 (less than 1 second per iteration)\n",
            " Threads    : 1\n",
            "\n",
            "                  Objective                Residual\n",
            "Iter       Primal          Dual         Primal    Dual     Compl     Time\n",
            "   0   3.54460489e+08 -6.40085460e+08  2.50e+03 9.38e+02  1.20e+06     0s\n",
            "   1   2.03637617e+07 -1.80453873e+08  7.60e+00 2.85e+00  1.44e+05     0s\n",
            "   2   1.98661759e+07  1.71168056e+07  5.50e-02 2.06e-02  1.95e+03     0s\n",
            "   3   1.95951447e+07  1.95548718e+07  6.78e-05 2.54e-05  2.86e+01     0s\n",
            "   4   1.95897411e+07  1.95897007e+07  9.63e-10 3.61e-10  2.87e-02     0s\n",
            "   5   1.95897357e+07  1.95897357e+07  9.09e-13 3.69e-13  2.87e-05     0s\n",
            "   6   1.95897357e+07  1.95897357e+07  0.00e+00 5.68e-14  2.87e-08     0s\n",
            "   7   1.95897357e+07  1.95897357e+07  0.00e+00 1.14e-13  2.87e-11     0s\n",
            "\n",
            "Barrier solved model in 7 iterations and 0.02 seconds (0.00 work units)\n",
            "Optimal objective 1.95897357e+07\n",
            "\n",
            "Status: 2\n",
            "x[0,1] = 365.54\n",
            "x[0,2] = 134.46\n",
            "x[0,3] = 165.58\n",
            "x[0,6] = 334.42\n",
            "x[1,4] = 250.00\n",
            "x[1,5] = 115.54\n",
            "x[2,5] = 134.46\n",
            "x[3,6] = 165.58\n",
            "x[4,7] = 250.00\n",
            "x[5,7] = 250.00\n",
            "x[6,7] = 500.00\n"
          ]
        }
      ]
    }
  ]
}