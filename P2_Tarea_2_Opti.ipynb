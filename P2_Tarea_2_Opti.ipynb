{
  "nbformat": 4,
  "nbformat_minor": 0,
  "metadata": {
    "colab": {
      "provenance": [],
      "include_colab_link": true
    },
    "kernelspec": {
      "name": "python3",
      "display_name": "Python 3"
    },
    "language_info": {
      "name": "python"
    }
  },
  "cells": [
    {
      "cell_type": "markdown",
      "metadata": {
        "id": "view-in-github",
        "colab_type": "text"
      },
      "source": [
        "<a href=\"https://colab.research.google.com/github/JoseAguirre-10/Tarea-2-Opti.-Mat./blob/main/P2_Tarea_2_Opti.ipynb\" target=\"_parent\"><img src=\"https://colab.research.google.com/assets/colab-badge.svg\" alt=\"Open In Colab\"/></a>"
      ]
    },
    {
      "cell_type": "code",
      "execution_count": 43,
      "metadata": {
        "id": "OXGhYSjOW8r6",
        "colab": {
          "base_uri": "https://localhost:8080/"
        },
        "outputId": "186a1cd2-97fd-4f6b-d51e-1ad5fe440f9e"
      },
      "outputs": [
        {
          "output_type": "stream",
          "name": "stdout",
          "text": [
            "Requirement already satisfied: gurobipy in /usr/local/lib/python3.11/dist-packages (12.0.2)\n"
          ]
        }
      ],
      "source": [
        "!pip install gurobipy"
      ]
    },
    {
      "cell_type": "code",
      "source": [
        "import numpy as np\n",
        "from gurobipy import*"
      ],
      "metadata": {
        "id": "4HmKBmz_N46t"
      },
      "execution_count": 44,
      "outputs": []
    },
    {
      "cell_type": "code",
      "source": [
        "#mejor utilizamos librerias para resolver el problema xd:\n",
        "\n",
        "betha = {\n",
        "    0:0,\n",
        "    1:100,\n",
        "    2:120,\n",
        "    3:130,\n",
        "    4:140,\n",
        "    5:150,\n",
        "    6:200,\n",
        "    7:0\n",
        "} #betha es un vector columna\n",
        "\n",
        "print(r[1])\n",
        "\n",
        "c = {\n",
        "    0:{1:10, 2:25, 3:30, 6:20},\n",
        "    1:{4:15, 5:15},\n",
        "    2:{5:15, 6:0},\n",
        "    3:{6:10},\n",
        "    4:{7:25},\n",
        "    5:{7:80},\n",
        "    6:{7:25},\n",
        "    7:{}\n",
        "}  # c es una matriz de 8x8\n",
        "\n",
        "\n",
        "r = {\n",
        "    0: {1: 500, 2: 350, 3: 500, 6: 600},\n",
        "    1: {4: 250, 5: 350},\n",
        "    2: {5: 350},\n",
        "    3: {6: 500},\n",
        "    4: {7: 800},\n",
        "    5: {7: 500},\n",
        "    6: {7: 500},\n",
        "    7: {}\n",
        "}  # r es una matriz de 8x8\n",
        "\n",
        "n = 8\n",
        "\n",
        "\n",
        "m = Model('Penalización')\n",
        "\n",
        "#defino la varaible\n",
        "\n",
        "\n",
        "x = m.addVars(n,n, vtype= GRB.CONTINUOUS,lb= 0, name = 'elemtos_por_bodega')\n",
        "\n",
        "#añado las restricciones:\n",
        "\n",
        "\n",
        "#hay que bloquear aquellos caminos donde r[i][j] == 0\n",
        "for i in range(n):\n",
        "  for j in range(n):\n",
        "    if j not in r[i]:\n",
        "      m.addConstr(x[i,j] == 0, name=f'Bloqueo_{i}_{j}')\n",
        "    else:\n",
        "      m.addConstr(x[i,j] <= r[i][j], name=f'Capacidad_{i}_{j}')\n",
        "\n",
        "\n",
        "#Primera bodega tenga 1000\n",
        "\n",
        "m.addConstr(quicksum(x[0, j] for j in range(n)) == 1000, name='Inicio')\n",
        "\n",
        "#Ultima bodega tenga 1000\n",
        "\n",
        "m.addConstr(quicksum(x[i,7] for i in range(n)) == 1000, name='Llegada')\n",
        "\n",
        "\n",
        "#lo que entra por un nodo debe ser igual a lo que sale por este:\n",
        "\n",
        "for i in range(1,7):\n",
        "  entrada = quicksum(x[j,i] for j in range(n))\n",
        "  salida = quicksum(x[i,j] for j in range(n))\n",
        "  m.addConstr(entrada == salida, name=f'balance_{i}')\n",
        "\n",
        "#definimos la función Objetivo:\n",
        "\n",
        "costo_transporte = quicksum(c[i][j]*(x[i,j]*x[i,j]) for i in range(n) for j in range(n) if j in r[i])\n",
        "\n",
        "costo_bodegaje = quicksum(betha[j]*(quicksum(x[k,j] for k in range(n))) for j in range(n) if j)\n",
        "\n",
        "m.setObjective(costo_bodegaje + costo_transporte, GRB.MINIMIZE)\n",
        "\n",
        "m.optimize()\n",
        "\n",
        "if m.status == GRB.OPTIMAL:\n",
        "    print(\"Solución óptima encontrada:\")\n",
        "    for i in range(n):\n",
        "        for j in range(n):\n",
        "            if x[i, j].x > 1e-6:  # Evitar imprimir valores cercanos a cero\n",
        "                print(f'x[{i},{j}] = {x[i, j].x:.2f}')\n",
        "else:\n",
        "    print(\"No se encontró solución óptima\")\n",
        "\n",
        "\n"
      ],
      "metadata": {
        "id": "Ewn4WMb3nn4D",
        "outputId": "4cbb2106-00b3-4e00-a8a2-c11282471c56",
        "colab": {
          "base_uri": "https://localhost:8080/"
        }
      },
      "execution_count": 92,
      "outputs": [
        {
          "output_type": "stream",
          "name": "stdout",
          "text": [
            "{4: 250, 5: 350}\n",
            "Gurobi Optimizer version 12.0.2 build v12.0.2rc0 (linux64 - \"Ubuntu 22.04.4 LTS\")\n",
            "\n",
            "CPU model: Intel(R) Xeon(R) CPU @ 2.20GHz, instruction set [SSE2|AVX|AVX2]\n",
            "Thread count: 1 physical cores, 2 logical processors, using up to 2 threads\n",
            "\n",
            "Optimize a model with 72 rows, 64 columns and 164 nonzeros\n",
            "Model fingerprint: 0xedd26eba\n",
            "Model has 11 quadratic objective terms\n",
            "Coefficient statistics:\n",
            "  Matrix range     [1e+00, 1e+00]\n",
            "  Objective range  [1e+02, 2e+02]\n",
            "  QObjective range [2e+01, 2e+02]\n",
            "  Bounds range     [0e+00, 0e+00]\n",
            "  RHS range        [2e+02, 1e+03]\n",
            "Presolve removed 65 rows and 53 columns\n",
            "Presolve time: 0.01s\n",
            "Presolved: 7 rows, 11 columns, 18 nonzeros\n",
            "Presolved model has 11 quadratic objective terms\n",
            "Ordering time: 0.00s\n",
            "\n",
            "Barrier statistics:\n",
            " AA' NZ     : 7.000e+00\n",
            " Factor NZ  : 2.800e+01\n",
            " Factor Ops : 1.400e+02 (less than 1 second per iteration)\n",
            " Threads    : 1\n",
            "\n",
            "                  Objective                Residual\n",
            "Iter       Primal          Dual         Primal    Dual     Compl     Time\n",
            "   0   3.54785489e+08 -6.40075139e+08  2.50e+03 9.38e+02  1.20e+06     0s\n",
            "   1   2.03822527e+07 -1.80434174e+08  7.94e+00 2.98e+00  1.44e+05     0s\n",
            "   2   1.98695037e+07  1.70973180e+07  5.81e-02 2.18e-02  1.97e+03     0s\n",
            "   3   1.95952361e+07  1.95544006e+07  7.13e-05 2.67e-05  2.90e+01     0s\n",
            "   4   1.95897412e+07  1.95897002e+07  1.02e-09 3.84e-10  2.91e-02     0s\n",
            "   5   1.95897357e+07  1.95897357e+07  9.09e-13 3.98e-13  2.91e-05     0s\n",
            "   6   1.95897357e+07  1.95897357e+07  1.14e-13 8.53e-14  2.91e-08     0s\n",
            "   7   1.95897357e+07  1.95897357e+07  1.42e-14 1.71e-13  2.91e-11     0s\n",
            "\n",
            "Barrier solved model in 7 iterations and 0.02 seconds (0.00 work units)\n",
            "Optimal objective 1.95897357e+07\n",
            "\n",
            "Solución óptima encontrada:\n",
            "x[0,1] = 365.54\n",
            "x[0,2] = 134.46\n",
            "x[0,3] = 165.58\n",
            "x[0,6] = 334.42\n",
            "x[1,4] = 250.00\n",
            "x[1,5] = 115.54\n",
            "x[2,5] = 134.46\n",
            "x[3,6] = 165.58\n",
            "x[4,7] = 250.00\n",
            "x[5,7] = 250.00\n",
            "x[6,7] = 500.00\n"
          ]
        }
      ]
    }
  ]
}