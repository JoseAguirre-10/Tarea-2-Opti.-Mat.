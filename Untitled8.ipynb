{
  "nbformat": 4,
  "nbformat_minor": 0,
  "metadata": {
    "colab": {
      "provenance": []
    },
    "kernelspec": {
      "name": "python3",
      "display_name": "Python 3"
    },
    "language_info": {
      "name": "python"
    }
  },
  "cells": [
    {
      "cell_type": "code",
      "source": [
        "!pip install gurobipy"
      ],
      "metadata": {
        "colab": {
          "base_uri": "https://localhost:8080/"
        },
        "id": "OfkycwNRZWEo",
        "outputId": "2d4a5c0e-4aa6-47fd-e8a3-b230f78d026a"
      },
      "execution_count": 4,
      "outputs": [
        {
          "output_type": "stream",
          "name": "stdout",
          "text": [
            "Collecting gurobipy\n",
            "  Downloading gurobipy-12.0.2-cp311-cp311-manylinux2014_x86_64.manylinux_2_17_x86_64.whl.metadata (16 kB)\n",
            "Downloading gurobipy-12.0.2-cp311-cp311-manylinux2014_x86_64.manylinux_2_17_x86_64.whl (14.5 MB)\n",
            "\u001b[2K   \u001b[90m━━━━━━━━━━━━━━━━━━━━━━━━━━━━━━━━━━━━━━━━\u001b[0m \u001b[32m14.5/14.5 MB\u001b[0m \u001b[31m72.2 MB/s\u001b[0m eta \u001b[36m0:00:00\u001b[0m\n",
            "\u001b[?25hInstalling collected packages: gurobipy\n",
            "Successfully installed gurobipy-12.0.2\n"
          ]
        }
      ]
    },
    {
      "cell_type": "code",
      "execution_count": 5,
      "metadata": {
        "colab": {
          "base_uri": "https://localhost:8080/"
        },
        "id": "6KbAbkvOZEq7",
        "outputId": "6513c54b-a36a-4db6-9938-7ef70c49d10e"
      },
      "outputs": [
        {
          "output_type": "stream",
          "name": "stdout",
          "text": [
            "Restricted license - for non-production use only - expires 2026-11-23\n",
            "Gurobi Optimizer version 12.0.2 build v12.0.2rc0 (linux64 - \"Ubuntu 22.04.4 LTS\")\n",
            "\n",
            "CPU model: Intel(R) Xeon(R) CPU @ 2.20GHz, instruction set [SSE2|AVX|AVX2]\n",
            "Thread count: 1 physical cores, 2 logical processors, using up to 2 threads\n",
            "\n",
            "Optimize a model with 8 rows, 11 columns and 22 nonzeros\n",
            "Model fingerprint: 0x7be668b9\n",
            "Model has 11 quadratic objective terms\n",
            "Coefficient statistics:\n",
            "  Matrix range     [1e+00, 1e+00]\n",
            "  Objective range  [1e+02, 2e+02]\n",
            "  QObjective range [2e+01, 2e+02]\n",
            "  Bounds range     [0e+00, 0e+00]\n",
            "  RHS range        [1e+03, 1e+03]\n",
            "Presolve removed 1 rows and 0 columns\n",
            "Presolve time: 0.02s\n",
            "Presolved: 7 rows, 11 columns, 18 nonzeros\n",
            "Presolved model has 11 quadratic objective terms\n",
            "Ordering time: 0.00s\n",
            "\n",
            "Barrier statistics:\n",
            " AA' NZ     : 7.000e+00\n",
            " Factor NZ  : 2.800e+01\n",
            " Factor Ops : 1.400e+02 (less than 1 second per iteration)\n",
            " Threads    : 1\n",
            "\n",
            "                  Objective                Residual\n",
            "Iter       Primal          Dual         Primal    Dual     Compl     Time\n",
            "   0   3.41096602e+08 -3.39660239e+08  2.50e+03 0.00e+00  1.39e+06     0s\n",
            "   1   2.10919389e+07 -1.02867917e+08  2.50e-03 0.00e+00  1.76e+05     0s\n",
            "   2   1.94802883e+07  7.59355899e+06  1.89e-04 2.27e-13  1.69e+04     0s\n",
            "   3   1.85175612e+07  1.74677826e+07  1.88e-10 0.00e+00  1.49e+03     0s\n",
            "   4   1.85010166e+07  1.84971184e+07  1.42e-14 5.68e-14  5.54e+00     0s\n",
            "   5   1.85010156e+07  1.85010117e+07  2.84e-14 5.68e-14  5.54e-03     0s\n",
            "   6   1.85010156e+07  1.85010156e+07  3.55e-14 5.68e-14  5.54e-06     0s\n",
            "   7   1.85010156e+07  1.85010156e+07  1.14e-13 2.13e-14  5.55e-09     0s\n",
            "\n",
            "Barrier solved model in 7 iterations and 0.05 seconds (0.00 work units)\n",
            "Optimal objective 1.85010156e+07\n",
            "\n",
            "\n",
            "Costo total: 18501015.60\n",
            "\n",
            "Flujo de 1 → 2: 404.46\n",
            "Flujo de 1 → 3: 119.28\n",
            "Flujo de 1 → 4: 157.67\n",
            "Flujo de 1 → 7: 318.59\n",
            "Flujo de 2 → 5: 355.34\n",
            "Flujo de 2 → 6: 49.12\n",
            "Flujo de 3 → 6: 119.28\n",
            "Flujo de 4 → 7: 157.67\n",
            "Flujo de 5 → 8: 355.34\n",
            "Flujo de 6 → 8: 168.40\n",
            "Flujo de 7 → 8: 476.26\n"
          ]
        }
      ],
      "source": [
        "import gurobipy as gp\n",
        "from gurobipy import GRB\n",
        "\n",
        "# Nodos y arcos\n",
        "N = range(1, 9)\n",
        "\n",
        "# Matriz de costos c_{ij} (infinito donde no hay arco)\n",
        "c = {\n",
        "    (1,2):10, (1,3):25, (1,4):30, (1,7):20,\n",
        "    (2,5):15, (2,6):15,\n",
        "    (3,6):15,\n",
        "    (4,7):10,\n",
        "    (5,8):25,\n",
        "    (6,8):80,\n",
        "    (7,8):25\n",
        "}\n",
        "\n",
        "# β_i para nodos 2 a 7 (almacenaje)\n",
        "beta = {2:100, 3:120, 4:130, 5:140, 6:150, 7:200}\n",
        "\n",
        "# Crear modelo\n",
        "m = gp.Model(\"flujo_nolineal\")\n",
        "\n",
        "# Variables de flujo x_{ij}\n",
        "x = m.addVars(c.keys(), lb=0, name=\"x\")\n",
        "\n",
        "# Función objetivo\n",
        "# Costo cuadrático de transporte\n",
        "obj_transporte = gp.quicksum(c[i,j] * x[i,j] * x[i,j] for (i,j) in c)\n",
        "\n",
        "# Costo de bodegaje\n",
        "obj_bodegaje = gp.quicksum(beta[i] * gp.quicksum(x[k,i] for (k,j) in c if j == i) for i in beta)\n",
        "\n",
        "m.setObjective(obj_transporte + obj_bodegaje, GRB.MINIMIZE)\n",
        "\n",
        "# Restricción: nodo fuente (1)\n",
        "m.addConstr(gp.quicksum(x[1,j] for j in N if (1,j) in c) == 1000, \"fuente\")\n",
        "\n",
        "# Restricción: nodo sumidero (8)\n",
        "m.addConstr(gp.quicksum(x[i,8] for i in N if (i,8) in c) == 1000, \"sumidero\")\n",
        "\n",
        "# Conservación de flujo intermedio\n",
        "for i in range(2, 8):\n",
        "    entrada = gp.quicksum(x[k,i] for (k,j) in c if j == i)\n",
        "    salida = gp.quicksum(x[i,j] for (i2,j) in c if i2 == i)\n",
        "    m.addConstr(salida - entrada == 0, f\"flujo_{i}\")\n",
        "\n",
        "# Optimizar\n",
        "m.optimize()\n",
        "\n",
        "# Mostrar solución óptima\n",
        "if m.status == GRB.OPTIMAL:\n",
        "    print(f\"\\nCosto total: {m.ObjVal:.2f}\\n\")\n",
        "    for (i,j) in x:\n",
        "        if x[i,j].X > 1e-6:\n",
        "            print(f\"Flujo de {i} → {j}: {x[i,j].X:.2f}\")\n"
      ]
    },
    {
      "cell_type": "markdown",
      "source": [],
      "metadata": {
        "id": "VL8FFj7YZIne"
      }
    }
  ]
}